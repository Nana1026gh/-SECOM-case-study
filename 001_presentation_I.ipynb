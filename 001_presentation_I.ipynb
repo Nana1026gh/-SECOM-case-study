{
 "metadata": {
  "language_info": {
   "codemirror_mode": {
    "name": "ipython",
    "version": 3
   },
   "file_extension": ".py",
   "mimetype": "text/x-python",
   "name": "python",
   "nbconvert_exporter": "python",
   "pygments_lexer": "ipython3",
   "version": 3
  },
  "orig_nbformat": 2
 },
 "nbformat": 4,
 "nbformat_minor": 2,
 "cells": [
  {
   "source": [
    "## Presentation 1: Literature Review and Planning of Research tasks, Getting the Data \n",
    "\n",
    "### 1. Get access to the data. Check also the course download folder for more details. \n",
    "\n",
    "### 2. Read the paper of Munirathinam/Ramadoss (2016) and Kerdprasop/Kerdprasop (2003).  \n",
    "\n",
    "### 3. Become familiar with the details of the CRISP-DM modelling process. Start reading IBM \"SPSS Modeler CRISP-DM Guide to Modeler 18.2\" \n",
    "\n",
    "### 4. Summarize your findings following the steps of the CRISP-DM model. \n",
    "\n",
    "### 5. Visualize the complete(!) process to build a statistical model to predict the defaults. \n",
    "\n",
    "#### Discuss especially the following topics: \n",
    "\n",
    "- imputation methods, \n",
    "\n",
    "- difference between feature reduction and selection, \n",
    "\n",
    "- common feature selection techniques, \n",
    "\n",
    "- necessity to deal with imbalanced data and \n",
    "\n",
    "- Name the challenges and possible solutions. \n",
    "\n",
    "#### 6. Provide a script to analyse the data "
   ],
   "cell_type": "markdown",
   "metadata": {}
  },
  {
   "source": [
    "## Presentation 1: Literature Review and Planning of Research tasks, Getting the Data \n",
    "### 1. Get access to the data. Check also the course download folder for more details. "
   ],
   "cell_type": "markdown",
   "metadata": {}
  },
  {
   "cell_type": "code",
   "execution_count": null,
   "metadata": {},
   "outputs": [],
   "source": [
    "SECOM_DATA = \"https://archive.ics.uci.edu/ml/machine-learning-databases/secom/secom.data\"\n",
    "SECOM_DESC = \"https://archive.ics.uci.edu/ml/machine-learning-databases/secom/secom.names\"\n",
    "SECOM_LABEL = \"https://archive.ics.uci.edu/ml/machine-learning-databases/secom/secom_labels.data\""
   ]
  },
  {
   "cell_type": "code",
   "execution_count": null,
   "metadata": {},
   "outputs": [],
   "source": [
    "import pandas as pd\n",
    "\n",
    "df = pd.read_csv(SECOM_DATA, header=None, sep = \" \")\n",
    "labels = pd.read_csv(SECOM_LABEL, header=None)"
   ]
  },
  {
   "cell_type": "code",
   "execution_count": null,
   "metadata": {},
   "outputs": [],
   "source": []
  }
 ]
}